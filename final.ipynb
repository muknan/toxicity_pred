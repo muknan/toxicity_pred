{
 "cells": [
  {
   "cell_type": "code",
   "execution_count": null,
   "metadata": {
    "_cell_guid": "b1076dfc-b9ad-4769-8c92-a6c4dae69d19",
    "_uuid": "8f2839f25d086af736a60e9eeb907d3b93b6e0e5",
    "id": "RReZvmKAQhf8"
   },
   "outputs": [],
   "source": [
    "import numpy as np\n",
    "import pandas as pd"
   ]
  },
  {
   "cell_type": "code",
   "execution_count": null,
   "metadata": {
    "id": "zQBio3Z9QhhE"
   },
   "outputs": [],
   "source": [
    "from sklearn.model_selection import train_test_split\n",
    "from mlxtend.feature_selection import SequentialFeatureSelector as SFS\n",
    "from sklearn.tree import DecisionTreeClassifier\n",
    "from sklearn.ensemble import BaggingClassifier\n",
    "from sklearn.impute import KNNImputer\n",
    "import matplotlib.pyplot as plt\n",
    "from sklearn.feature_selection import VarianceThreshold\n",
    "from sklearn.ensemble import GradientBoostingClassifier\n",
    "from sklearn.feature_selection import RFECV\n",
    "from sklearn.model_selection import StratifiedKFold\n",
    "from sklearn.impute import SimpleImputer\n",
    "from sklearn.preprocessing import LabelEncoder\n",
    "from sklearn.feature_selection import SelectKBest\n",
    "from sklearn.feature_selection import f_classif\n",
    "from sklearn.preprocessing import MinMaxScaler, StandardScaler\n",
    "from xgboost import XGBClassifier\n",
    "import lightgbm as lgb"
   ]
  },
  {
   "cell_type": "code",
   "execution_count": null,
   "metadata": {},
   "outputs": [],
   "source": [
    "import pandas as pd\n",
    "train = pd.read_csv('train.csv', sep=',|;')\n",
    "train.reset_index(inplace=True)\n",
    "train = train.rename(columns={\"index\": \"V1\"})\n",
    "\n",
    "feature_matrix = pd.read_csv('feamat.csv', sep=';|,')\n",
    "\n",
    "train_data = train.merge(feature_matrix, on = ['V1'],how = 'left')"
   ]
  },
  {
   "cell_type": "code",
   "execution_count": null,
   "metadata": {},
   "outputs": [],
   "source": [
    "train_data = train_data.replace([np.inf, -np.inf], np.nan)"
   ]
  },
  {
   "cell_type": "code",
   "execution_count": null,
   "metadata": {},
   "outputs": [],
   "source": [
    "train_data = train_data.fillna(train_data.mean())"
   ]
  },
  {
   "cell_type": "code",
   "execution_count": null,
   "metadata": {},
   "outputs": [],
   "source": [
    "encoder = LabelEncoder()\n",
    "feature_matrix['V1'] = encoder.fit_transform(feature_matrix['V1'])\n",
    "\n",
    "train_data['V1'] = encoder.transform(train_data['V1'])"
   ]
  },
  {
   "cell_type": "code",
   "execution_count": null,
   "metadata": {},
   "outputs": [],
   "source": [
    "test = pd.read_csv('test.csv', sep=',|;')\n",
    "\n",
    "test.reset_index(inplace=True)\n",
    "test = test.rename(columns={\"index\": \"V1\"})\n",
    "\n",
    "featest = pd.read_csv('feamat.csv', sep=';|,')\n",
    "test_data =  test.merge(featest, on = ['V1'],how = 'left')\n",
    "\n",
    "test_data = test_data.replace([np.inf, -np.inf], np.nan)\n",
    "test_data = test_data.fillna(test_data.mean())\n",
    "\n",
    "test_data['V1'] = encoder.transform(test_data['V1'])"
   ]
  },
  {
   "cell_type": "code",
   "execution_count": null,
   "metadata": {
    "id": "nkg5bdUgQhhn",
    "outputId": "4a53c520-6025-406d-95a8-d1c4fc865d62"
   },
   "outputs": [],
   "source": [
    "constant_filter = VarianceThreshold(threshold=0)\n",
    "constant_filter.fit(train_data)\n",
    "train_data = pd.DataFrame(train_data)\n",
    "len(train_data.columns[constant_filter.get_support()])\n",
    "\n",
    "constant_columns = [column for column in train_data.columns\n",
    "                    if column not in train_data.columns[constant_filter.get_support()]]\n",
    "print(constant_columns)\n",
    "train_data.drop(labels=constant_columns, axis=1, inplace=True)\n",
    "test_data.drop(labels=constant_columns, axis=1, inplace=True)"
   ]
  },
  {
   "cell_type": "code",
   "execution_count": null,
   "metadata": {
    "id": "5xJ2ZLmuQhhu",
    "outputId": "8d5285bf-5c84-4380-bfd0-4843956a80ea"
   },
   "outputs": [],
   "source": [
    "qconstant_filter = VarianceThreshold(threshold=0.01)\n",
    "qconstant_filter.fit(train_data)\n",
    "len(train_data.columns[qconstant_filter.get_support()])\n",
    "qconstant_columns = [column for column in train_data.columns\n",
    "                    if column not in train_data.columns[qconstant_filter.get_support()]]\n",
    "print(qconstant_columns)\n",
    "train_data.drop(labels=qconstant_columns, axis=1, inplace=True)\n",
    "test_data.drop(labels=qconstant_columns, axis=1, inplace=True)"
   ]
  },
  {
   "cell_type": "code",
   "execution_count": null,
   "metadata": {
    "id": "F-yAdo7JQhhx",
    "outputId": "3d9b52fe-ca4d-4094-f361-d5c2292d7a5b"
   },
   "outputs": [],
   "source": [
    "train_features_T = train_data.T\n",
    "train_features_T.shape\n",
    "print(train_features_T.duplicated().sum())\n",
    "unique_features = train_features_T.drop_duplicates(keep='first').T\n",
    "unique_features.shape\n",
    "duplicated_features = [dup_col for dup_col in train_data.columns if dup_col not in unique_features.columns]\n",
    "print(duplicated_features)\n",
    "train_data.drop(labels=duplicated_features, axis=1, inplace=True)\n",
    "test_data.drop(labels=duplicated_features, axis=1, inplace=True)"
   ]
  },
  {
   "cell_type": "code",
   "execution_count": null,
   "metadata": {
    "id": "yCXsBFbAQhh1",
    "outputId": "7e17b362-58d0-4abb-ef0d-be5bdb0680d7"
   },
   "outputs": [],
   "source": [
    "correlated_features = set()\n",
    "correlation_matrix = train_data.corr()\n",
    "for i in range(len(correlation_matrix .columns)):\n",
    "    for j in range(i):\n",
    "        if abs(correlation_matrix.iloc[i, j]) > 0.90:\n",
    "            colname = correlation_matrix.columns[i]\n",
    "            correlated_features.add(colname)\n",
    "len(correlated_features)\n",
    "print(correlated_features)\n",
    "train_data.drop(labels=correlated_features, axis=1, inplace=True)\n",
    "test_data.drop(labels=correlated_features, axis=1, inplace=True)"
   ]
  },
  {
   "cell_type": "code",
   "execution_count": null,
   "metadata": {},
   "outputs": [],
   "source": [
    "X = train_data.drop(['Expected'], axis=1)\n",
    "y = train_data['Expected']"
   ]
  },
  {
   "cell_type": "code",
   "execution_count": null,
   "metadata": {},
   "outputs": [],
   "source": [
    "fc = SelectKBest(f_classif, k=32)\n",
    "best_f = fc.fit_transform(X, y)\n",
    "best_f"
   ]
  },
  {
   "cell_type": "code",
   "execution_count": null,
   "metadata": {},
   "outputs": [],
   "source": [
    "from imblearn.over_sampling import SMOTE\n",
    "from imblearn.under_sampling import RandomUnderSampler\n",
    "from imblearn.pipeline import Pipeline\n",
    "\n",
    "# define pipeline\n",
    "over = SMOTE(random_state=42)\n",
    "under = RandomUnderSampler()\n",
    "steps = [('o', over), ('u', under)]\n",
    "pipeline = Pipeline(steps=steps)\n",
    "\n",
    "\n",
    "best_f, y = pipeline.fit_resample(best_f, y)"
   ]
  },
  {
   "cell_type": "code",
   "execution_count": null,
   "metadata": {
    "id": "slsklAOeQhiD",
    "outputId": "4298dab3-43c9-4120-a607-fc0c98a74ce8"
   },
   "outputs": [],
   "source": [
    "X_train, X_test, y_train, y_test = train_test_split(best_f, y, test_size = 0.12, random_state = 42)"
   ]
  },
  {
   "cell_type": "code",
   "execution_count": null,
   "metadata": {},
   "outputs": [],
   "source": [
    "scaler = StandardScaler()\n",
    "scaler.fit(X_train)\n",
    "scaler.transform(X_train)\n",
    "scaler.transform(X_test)"
   ]
  },
  {
   "cell_type": "code",
   "execution_count": null,
   "metadata": {},
   "outputs": [],
   "source": [
    "from sklearn.ensemble import VotingClassifier, StackingClassifier\n",
    "from xgboost import XGBClassifier\n",
    "import lightgbm as lgb\n",
    "from catboost import CatBoostClassifier\n",
    "# group / ensemble of models\n",
    "estimator = []\n",
    "\n",
    "estimator.append(('GB', GradientBoostingClassifier(n_estimators = 384, learning_rate = 0.05138021950826747, max_depth = 179, min_samples_leaf = 110, min_samples_split = 451, random_state = 42)))\n",
    "estimator.append(('XG', XGBClassifier(n_estimators = 594, learning_rate = 0.015720655420875196, max_depth = 15, random_state = 42)))\n",
    "estimator.append(('LGM', lgb.LGBMClassifier(n_estimators = 393, learning_rate = 0.03872954579312028, max_depth = 75, num_leaves = 242, random_state = 42)))\n",
    "\n",
    "# Voting Classifier with hard voting\n",
    "\n",
    "\n",
    "# clf = StackingClassifier(\n",
    "# ...     estimators=estimators, final_estimator=LogisticRegression()\n",
    "# ... )\n",
    "\n",
    "vot_soft = VotingClassifier(estimators = estimator,  voting='hard')\n",
    "vot_soft.fit(X_train, y_train)"
   ]
  },
  {
   "cell_type": "code",
   "execution_count": null,
   "metadata": {},
   "outputs": [],
   "source": [
    "print(\"Training Score {}\".format(vot_soft.score(X_train, y_train)))\n",
    "print(\"Testing Score {}\".format(vot_soft.score(X_test, y_test)))\n",
    "from sklearn.metrics import f1_score\n",
    "y_pred = vot_soft.predict(X_test)\n",
    "f1_score(y_test, y_pred, average='macro')"
   ]
  },
  {
   "cell_type": "code",
   "execution_count": null,
   "metadata": {},
   "outputs": [],
   "source": [
    "X_important = fc.transform(test_data)\n",
    "#X_important = best_model.transform(df)\n",
    "\n",
    "y_pred = vot_soft.predict(X_important)"
   ]
  },
  {
   "cell_type": "code",
   "execution_count": null,
   "metadata": {},
   "outputs": [],
   "source": [
    "testd = pd.read_csv('../input/toxic-xmen/test.csv', sep=',')\n",
    "output = pd.DataFrame({'Id': testd[\"x\"], 'Predicted': y_pred})\n",
    "output.to_csv('submission.csv', index=False)\n",
    "print(\"Your submission was successfully saved!\")"
   ]
  }
 ],
 "metadata": {
  "kernelspec": {
   "display_name": "Python 3",
   "language": "python",
   "name": "python3"
  },
  "language_info": {
   "codemirror_mode": {
    "name": "ipython",
    "version": 3
   },
   "file_extension": ".py",
   "mimetype": "text/x-python",
   "name": "python",
   "nbconvert_exporter": "python",
   "pygments_lexer": "ipython3",
   "version": "3.8.5"
  }
 },
 "nbformat": 4,
 "nbformat_minor": 4
}
